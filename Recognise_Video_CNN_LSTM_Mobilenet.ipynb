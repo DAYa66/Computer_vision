{
 "cells": [
  {
   "cell_type": "markdown",
   "metadata": {},
   "source": [
    "# Задание:\n",
    "\n",
    "Обучить нейронную сеть для распознавания действий человека по видео на датасете KTH\n"
   ]
  },
  {
   "cell_type": "markdown",
   "metadata": {
    "id": "-x-x2hhlOKkl",
    "papermill": {
     "duration": 0.034882,
     "end_time": "2022-01-21T17:10:49.373789",
     "exception": false,
     "start_time": "2022-01-21T17:10:49.338907",
     "status": "completed"
    },
    "tags": []
   },
   "source": [
    "# Violence Detection using CNN + LSTM neural netowrk"
   ]
  },
  {
   "cell_type": "markdown",
   "metadata": {
    "id": "nRQW1dLqOVO_",
    "papermill": {
     "duration": 0.031662,
     "end_time": "2022-01-21T17:10:49.437951",
     "exception": false,
     "start_time": "2022-01-21T17:10:49.406289",
     "status": "completed"
    },
    "tags": []
   },
   "source": [
    "## Introduction"
   ]
  },
  {
   "cell_type": "markdown",
   "metadata": {
    "id": "a1iagEQ3OXEn",
    "papermill": {
     "duration": 0.032022,
     "end_time": "2022-01-21T17:10:49.502020",
     "exception": false,
     "start_time": "2022-01-21T17:10:49.469998",
     "status": "completed"
    },
    "tags": []
   },
   "source": [
    "Today, the amount of public violence has increased dramatically. As much in high schools as in the street. This has resulted in the ubiquitous use of surveillance cameras. This has helped the authorities to identify these events and take the necessary measures. But almost all systems today require the human-inspection of these videos to identify such events, which is virtually inefficient. It is therefore necessary to have such a practical system that can automatically monitor and identify the surveillance videos.\n",
    "The development of various deep learning techniques, thanks to the availability of large data sets and computational resources, has resulted in a historic change in the community of computer vision. Various techniques have been developed to address problems such as object detection, recognition, tracking, action recognition, legend generation, etc. However, despite recent developments in deep learning, very few techniques based on deep learning have been proposed to address the problem of detecting violence from videos."
   ]
  },
  {
   "cell_type": "markdown",
   "metadata": {
    "id": "L8w5vbqMObaw",
    "papermill": {
     "duration": 0.03168,
     "end_time": "2022-01-21T17:10:49.565314",
     "exception": false,
     "start_time": "2022-01-21T17:10:49.533634",
     "status": "completed"
    },
    "tags": []
   },
   "source": [
    "## Flowchart"
   ]
  },
  {
   "cell_type": "markdown",
   "metadata": {
    "id": "6kz7yE3kOgMk",
    "papermill": {
     "duration": 0.032142,
     "end_time": "2022-01-21T17:10:49.629116",
     "exception": false,
     "start_time": "2022-01-21T17:10:49.596974",
     "status": "completed"
    },
    "tags": []
   },
   "source": [
    "The method consists of extracting a set of frames belonging to the video, sending them to a pretrained network called VGG16, obtaining the output of one of its final layers and from these outputs train another network architecture with a type of special neurons called LSTM. These neurons have memory and are able to analyze the temporal information of the video, if at any time they detect violence, it will be classified as a violent video.\n",
    "\n",
    "\n",
    "\n"
   ]
  },
  {
   "cell_type": "markdown",
   "metadata": {
    "id": "UVXa7uMnOlkp",
    "papermill": {
     "duration": 0.031312,
     "end_time": "2022-01-21T17:10:49.692737",
     "exception": false,
     "start_time": "2022-01-21T17:10:49.661425",
     "status": "completed"
    },
    "tags": []
   },
   "source": [
    "## Imports"
   ]
  },
  {
   "cell_type": "code",
   "execution_count": 106,
   "metadata": {
    "execution": {
     "iopub.execute_input": "2022-01-21T17:10:49.765601Z",
     "iopub.status.busy": "2022-01-21T17:10:49.764544Z",
     "iopub.status.idle": "2022-01-21T17:10:54.450795Z",
     "shell.execute_reply": "2022-01-21T17:10:54.452170Z",
     "shell.execute_reply.started": "2022-01-21T17:07:38.420113Z"
    },
    "id": "oDfDnlliPMd-",
    "papermill": {
     "duration": 4.727967,
     "end_time": "2022-01-21T17:10:54.452693",
     "exception": false,
     "start_time": "2022-01-21T17:10:49.724726",
     "status": "completed"
    },
    "tags": []
   },
   "outputs": [],
   "source": [
    "%matplotlib inline\n",
    "import cv2\n",
    "import os\n",
    "import numpy as np\n",
    "import keras\n",
    "import matplotlib.pyplot as plt\n",
    "# import download\n",
    "from random import shuffle\n",
    "import tensorflow as tf\n",
    "from tensorflow.keras.applications import MobileNet\n",
    "from tensorflow.keras import backend as K\n",
    "from tensorflow.keras.models import Model, Sequential\n",
    "from tensorflow.keras.layers import Input\n",
    "from tensorflow.keras.layers import LSTM\n",
    "from tensorflow.keras.layers import Dense, Activation\n",
    "import sys\n",
    "import h5py\n",
    "import glob"
   ]
  },
  {
   "cell_type": "code",
   "execution_count": 2,
   "metadata": {
    "colab": {
     "base_uri": "https://localhost:8080/",
     "height": 35
    },
    "execution": {
     "iopub.execute_input": "2022-01-21T17:10:54.594332Z",
     "iopub.status.busy": "2022-01-21T17:10:54.593577Z",
     "iopub.status.idle": "2022-01-21T17:10:54.597156Z",
     "shell.execute_reply": "2022-01-21T17:10:54.597828Z",
     "shell.execute_reply.started": "2022-01-21T17:07:43.100745Z"
    },
    "id": "kFU6Qg8mPXvv",
    "outputId": "a167ab0b-e4eb-4255-86c7-8de59fe0d035",
    "papermill": {
     "duration": 0.071869,
     "end_time": "2022-01-21T17:10:54.598034",
     "exception": false,
     "start_time": "2022-01-21T17:10:54.526165",
     "status": "completed"
    },
    "tags": []
   },
   "outputs": [
    {
     "data": {
      "application/vnd.google.colaboratory.intrinsic+json": {
       "type": "string"
      },
      "text/plain": [
       "'2.8.0'"
      ]
     },
     "execution_count": 2,
     "metadata": {},
     "output_type": "execute_result"
    }
   ],
   "source": [
    "keras.__version__"
   ]
  },
  {
   "cell_type": "code",
   "execution_count": 3,
   "metadata": {
    "colab": {
     "base_uri": "https://localhost:8080/"
    },
    "id": "YXM4JXqFGqhE",
    "outputId": "6586ca5c-62c3-4be9-e602-3ee2a5672026"
   },
   "outputs": [
    {
     "name": "stdout",
     "output_type": "stream",
     "text": [
      "--2022-09-07 10:30:30--  http://www.csc.kth.se/cvap/actions/walking.zip\n",
      "Resolving www.csc.kth.se (www.csc.kth.se)... 130.237.28.41, 2001:6b0:1:11c2::82ed:1c29\n",
      "Connecting to www.csc.kth.se (www.csc.kth.se)|130.237.28.41|:80... connected.\n",
      "HTTP request sent, awaiting response... 301 Moved Permanently\n",
      "Location: https://www.csc.kth.se/cvap/actions/walking.zip [following]\n",
      "--2022-09-07 10:30:31--  https://www.csc.kth.se/cvap/actions/walking.zip\n",
      "Connecting to www.csc.kth.se (www.csc.kth.se)|130.237.28.41|:443... connected.\n",
      "HTTP request sent, awaiting response... 200 OK\n",
      "Length: 242442411 (231M) [application/zip]\n",
      "Saving to: ‘walking.zip’\n",
      "\n",
      "walking.zip         100%[===================>] 231.21M   824KB/s    in 4m 42s  \n",
      "\n",
      "2022-09-07 10:35:13 (840 KB/s) - ‘walking.zip’ saved [242442411/242442411]\n",
      "\n",
      "URL transformed to HTTPS due to an HSTS policy\n",
      "--2022-09-07 10:35:13--  https://www.csc.kth.se/cvap/actions/jogging.zip\n",
      "Resolving www.csc.kth.se (www.csc.kth.se)... 130.237.28.41, 2001:6b0:1:11c2::82ed:1c29\n",
      "Connecting to www.csc.kth.se (www.csc.kth.se)|130.237.28.41|:443... connected.\n",
      "HTTP request sent, awaiting response... 200 OK\n",
      "Length: 168961290 (161M) [application/zip]\n",
      "Saving to: ‘jogging.zip’\n",
      "\n",
      "jogging.zip         100%[===================>] 161.13M   866KB/s    in 3m 16s  \n",
      "\n",
      "2022-09-07 10:38:31 (841 KB/s) - ‘jogging.zip’ saved [168961290/168961290]\n",
      "\n",
      "URL transformed to HTTPS due to an HSTS policy\n",
      "--2022-09-07 10:38:31--  https://www.csc.kth.se/cvap/actions/running.zip\n",
      "Resolving www.csc.kth.se (www.csc.kth.se)... 130.237.28.41, 2001:6b0:1:11c2::82ed:1c29\n",
      "Connecting to www.csc.kth.se (www.csc.kth.se)|130.237.28.41|:443... connected.\n",
      "HTTP request sent, awaiting response... 200 OK\n",
      "Length: 149756643 (143M) [application/zip]\n",
      "Saving to: ‘running.zip’\n",
      "\n",
      "running.zip         100%[===================>] 142.82M   851KB/s    in 2m 54s  \n",
      "\n",
      "2022-09-07 10:41:25 (843 KB/s) - ‘running.zip’ saved [149756643/149756643]\n",
      "\n",
      "URL transformed to HTTPS due to an HSTS policy\n",
      "--2022-09-07 10:41:25--  https://www.csc.kth.se/cvap/actions/boxing.zip\n",
      "Resolving www.csc.kth.se (www.csc.kth.se)... 130.237.28.41, 2001:6b0:1:11c2::82ed:1c29\n",
      "Connecting to www.csc.kth.se (www.csc.kth.se)|130.237.28.41|:443... connected.\n",
      "HTTP request sent, awaiting response... 200 OK\n",
      "Length: 194498294 (185M) [application/zip]\n",
      "Saving to: ‘boxing.zip’\n",
      "\n",
      "boxing.zip          100%[===================>] 185.49M   858KB/s    in 3m 46s  \n",
      "\n",
      "2022-09-07 10:45:13 (840 KB/s) - ‘boxing.zip’ saved [194498294/194498294]\n",
      "\n",
      "URL transformed to HTTPS due to an HSTS policy\n",
      "--2022-09-07 10:45:13--  https://www.csc.kth.se/cvap/actions/handwaving.zip\n",
      "Resolving www.csc.kth.se (www.csc.kth.se)... 130.237.28.41, 2001:6b0:1:11c2::82ed:1c29\n",
      "Connecting to www.csc.kth.se (www.csc.kth.se)|130.237.28.41|:443... connected.\n",
      "HTTP request sent, awaiting response... 200 OK\n",
      "Length: 218981954 (209M) [application/zip]\n",
      "Saving to: ‘handwaving.zip’\n",
      "\n",
      "handwaving.zip      100%[===================>] 208.84M   875KB/s    in 4m 14s  \n",
      "\n",
      "2022-09-07 10:49:28 (841 KB/s) - ‘handwaving.zip’ saved [218981954/218981954]\n",
      "\n",
      "URL transformed to HTTPS due to an HSTS policy\n",
      "--2022-09-07 10:49:28--  https://www.csc.kth.se/cvap/actions/handclapping.zip\n",
      "Resolving www.csc.kth.se (www.csc.kth.se)... 130.237.28.41, 2001:6b0:1:11c2::82ed:1c29\n",
      "Connecting to www.csc.kth.se (www.csc.kth.se)|130.237.28.41|:443... connected.\n",
      "HTTP request sent, awaiting response... 200 OK\n",
      "Length: 176901831 (169M) [application/zip]\n",
      "Saving to: ‘handclapping.zip’\n",
      "\n",
      "handclapping.zip    100%[===================>] 168.71M   854KB/s    in 3m 25s  \n",
      "\n",
      "2022-09-07 10:52:54 (843 KB/s) - ‘handclapping.zip’ saved [176901831/176901831]\n",
      "\n"
     ]
    }
   ],
   "source": [
    "#скачиваем архивы с датасетами\n",
    "!wget http://www.csc.kth.se/cvap/actions/walking.zip\n",
    "!wget http://www.csc.kth.se/cvap/actions/jogging.zip\n",
    "!wget http://www.csc.kth.se/cvap/actions/running.zip\n",
    "!wget http://www.csc.kth.se/cvap/actions/boxing.zip\n",
    "!wget http://www.csc.kth.se/cvap/actions/handwaving.zip\n",
    "!wget http://www.csc.kth.se/cvap/actions/handclapping.zip"
   ]
  },
  {
   "cell_type": "code",
   "execution_count": 4,
   "metadata": {
    "id": "A9H3RJtDGqm4"
   },
   "outputs": [],
   "source": [
    "#распаковываем архивы\n",
    "!unzip walking.zip -d walking > /dev/null\n",
    "!unzip jogging.zip -d jogging > /dev/null\n",
    "!unzip running.zip -d running > /dev/null\n",
    "!unzip boxing.zip -d boxing > /dev/null\n",
    "!unzip handwaving.zip -d handwaving > /dev/null\n",
    "!unzip handclapping.zip -d handclapping > /dev/null"
   ]
  },
  {
   "cell_type": "code",
   "execution_count": 5,
   "metadata": {
    "id": "qKB2lC2SGqrl"
   },
   "outputs": [],
   "source": [
    "#удаляем архивы (чтобы освободить место на диске)\n",
    "!rm walking.zip\n",
    "!rm jogging.zip\n",
    "!rm running.zip\n",
    "!rm boxing.zip\n",
    "!rm handwaving.zip\n",
    "!rm handclapping.zip"
   ]
  },
  {
   "cell_type": "code",
   "execution_count": 74,
   "metadata": {
    "id": "UNOZB33bHFt7"
   },
   "outputs": [],
   "source": [
    "#список классов\n",
    "classes = [\n",
    "    'walking',\n",
    "    'jogging',\n",
    "    'running',\n",
    "    'boxing',\n",
    "    'handwaving',\n",
    "    'handclapping',\n",
    "]"
   ]
  },
  {
   "cell_type": "code",
   "execution_count": 75,
   "metadata": {
    "colab": {
     "base_uri": "https://localhost:8080/"
    },
    "id": "piZDeUqDHF0H",
    "outputId": "67bb2194-0947-445d-8c14-58b0197204df"
   },
   "outputs": [
    {
     "name": "stdout",
     "output_type": "stream",
     "text": [
      "Processing class: walking\n",
      "Processing class: jogging\n",
      "Processing class: running\n",
      "Processing class: boxing\n",
      "Processing class: handwaving\n",
      "Processing class: handclapping\n",
      "Количество объектов: 599\n"
     ]
    }
   ],
   "source": [
    "#составляем список (путь к видео, класс)\n",
    "\n",
    "# Для обучения будем использовать весь набор данных, а не часть\n",
    "dataset = []\n",
    "data_root = './'\n",
    "for cls in classes:\n",
    "    print('Processing class: {}'.format(cls))\n",
    "    for fpath in glob.glob(os.path.join(data_root, cls, '*.avi')):\n",
    "      dataset.append((fpath, cls)) #(путь, класс)\n",
    "print(f'Количество объектов: {len(dataset)}')"
   ]
  },
  {
   "cell_type": "markdown",
   "metadata": {
    "id": "v6pf1l28PzIO",
    "papermill": {
     "duration": 0.05637,
     "end_time": "2022-01-21T17:10:54.713468",
     "exception": false,
     "start_time": "2022-01-21T17:10:54.657098",
     "status": "completed"
    },
    "tags": []
   },
   "source": [
    "## Helper Functions"
   ]
  },
  {
   "cell_type": "markdown",
   "metadata": {
    "id": "WKnyJkf8PzxE",
    "papermill": {
     "duration": 0.061736,
     "end_time": "2022-01-21T17:10:54.831159",
     "exception": false,
     "start_time": "2022-01-21T17:10:54.769423",
     "status": "completed"
    },
    "tags": []
   },
   "source": [
    "We will use the function ```print_progress``` to print the amount of videos processed the datasets"
   ]
  },
  {
   "cell_type": "code",
   "execution_count": 76,
   "metadata": {
    "execution": {
     "iopub.execute_input": "2022-01-21T17:10:54.942825Z",
     "iopub.status.busy": "2022-01-21T17:10:54.941987Z",
     "iopub.status.idle": "2022-01-21T17:10:54.944071Z",
     "shell.execute_reply": "2022-01-21T17:10:54.944551Z",
     "shell.execute_reply.started": "2022-01-21T17:07:43.112940Z"
    },
    "id": "qnafWmS7P3CG",
    "papermill": {
     "duration": 0.060547,
     "end_time": "2022-01-21T17:10:54.944723",
     "exception": false,
     "start_time": "2022-01-21T17:10:54.884176",
     "status": "completed"
    },
    "tags": []
   },
   "outputs": [],
   "source": [
    "def print_progress(count, max_count):\n",
    "    # Percentage completion.\n",
    "    pct_complete = count / max_count\n",
    "\n",
    "    # Status-message. Note the \\r which means the line should\n",
    "    # overwrite itself.\n",
    "    msg = \"\\r- Progress: {0:.1%}\".format(pct_complete)\n",
    "\n",
    "    # Print it.\n",
    "    sys.stdout.write(msg)\n",
    "    sys.stdout.flush()"
   ]
  },
  {
   "cell_type": "markdown",
   "metadata": {
    "id": "tRf-KgkjP9Kt",
    "papermill": {
     "duration": 0.032397,
     "end_time": "2022-01-21T17:10:55.028004",
     "exception": false,
     "start_time": "2022-01-21T17:10:54.995607",
     "status": "completed"
    },
    "tags": []
   },
   "source": [
    "## Load Data\n",
    "\n",
    "Firstly, we define the directory to place the video dataset"
   ]
  },
  {
   "cell_type": "code",
   "execution_count": 77,
   "metadata": {
    "colab": {
     "base_uri": "https://localhost:8080/"
    },
    "execution": {
     "iopub.execute_input": "2022-01-21T17:10:55.095387Z",
     "iopub.status.busy": "2022-01-21T17:10:55.094722Z",
     "iopub.status.idle": "2022-01-21T17:10:55.097770Z",
     "shell.execute_reply": "2022-01-21T17:10:55.097273Z",
     "shell.execute_reply.started": "2022-01-21T17:07:43.119663Z"
    },
    "id": "RiRKgwBgP-NY",
    "outputId": "ae7131d9-c58c-4ac1-f27d-41e8400cb873",
    "papermill": {
     "duration": 0.038033,
     "end_time": "2022-01-21T17:10:55.097888",
     "exception": false,
     "start_time": "2022-01-21T17:10:55.059855",
     "status": "completed"
    },
    "tags": []
   },
   "outputs": [
    {
     "data": {
      "text/plain": [
       "['/content/walking',\n",
       " '/content/jogging',\n",
       " '/content/running',\n",
       " '/content/boxing',\n",
       " '/content/handwaving',\n",
       " '/content/handclapping']"
      ]
     },
     "execution_count": 77,
     "metadata": {},
     "output_type": "execute_result"
    }
   ],
   "source": [
    "in_dir = []\n",
    "for cls in classes:\n",
    "    in_dir_i = f\"/content/{cls}\"\n",
    "    in_dir.append(in_dir_i)\n",
    "in_dir"
   ]
  },
  {
   "cell_type": "markdown",
   "metadata": {
    "id": "UCZHrpJjRKky",
    "papermill": {
     "duration": 0.031437,
     "end_time": "2022-01-21T17:10:55.161156",
     "exception": false,
     "start_time": "2022-01-21T17:10:55.129719",
     "status": "completed"
    },
    "tags": []
   },
   "source": [
    "Copy some of the data-dimensions for convenience."
   ]
  },
  {
   "cell_type": "code",
   "execution_count": 78,
   "metadata": {
    "execution": {
     "iopub.execute_input": "2022-01-21T17:10:55.229554Z",
     "iopub.status.busy": "2022-01-21T17:10:55.228893Z",
     "iopub.status.idle": "2022-01-21T17:10:55.231843Z",
     "shell.execute_reply": "2022-01-21T17:10:55.231325Z",
     "shell.execute_reply.started": "2022-01-21T17:07:43.128115Z"
    },
    "id": "SXTNEj6SRLZZ",
    "papermill": {
     "duration": 0.039298,
     "end_time": "2022-01-21T17:10:55.231954",
     "exception": false,
     "start_time": "2022-01-21T17:10:55.192656",
     "status": "completed"
    },
    "tags": []
   },
   "outputs": [],
   "source": [
    "# Frame size  \n",
    "#img_size = 224\n",
    "\n",
    "img_size_touple = (224, 224)\n",
    "\n",
    "# Number of channels (RGB)\n",
    "num_channels = 3\n",
    "\n",
    "# Flat frame size\n",
    "img_size_flat = 224 * 224 * num_channels\n",
    "\n",
    "# Number of classes for classification (Violence-No Violence)\n",
    "num_classes = 6\n",
    "\n",
    "# Number of files to train\n",
    "_num_files_train = 1\n",
    "\n",
    "# Number of frames per video\n",
    "_images_per_file = 150\n",
    "\n",
    "# Number of frames per training set\n",
    "_num_images_train = _num_files_train * _images_per_file\n",
    "\n",
    "# Video extension\n",
    "video_exts = \".avi\""
   ]
  },
  {
   "cell_type": "markdown",
   "metadata": {
    "id": "Wodq7EaSRSS8",
    "papermill": {
     "duration": 0.031754,
     "end_time": "2022-01-21T17:10:55.295278",
     "exception": false,
     "start_time": "2022-01-21T17:10:55.263524",
     "status": "completed"
    },
    "tags": []
   },
   "source": [
    "### Helper-function for getting video frames\n",
    "Function used to get 150 frames from a video file and convert the frame to a suitable format for the neural net."
   ]
  },
  {
   "cell_type": "code",
   "execution_count": 79,
   "metadata": {
    "execution": {
     "iopub.execute_input": "2022-01-21T17:10:55.366361Z",
     "iopub.status.busy": "2022-01-21T17:10:55.365682Z",
     "iopub.status.idle": "2022-01-21T17:10:55.368503Z",
     "shell.execute_reply": "2022-01-21T17:10:55.368111Z",
     "shell.execute_reply.started": "2022-01-21T17:07:43.138620Z"
    },
    "id": "eu9c4a-3RVkO",
    "papermill": {
     "duration": 0.041256,
     "end_time": "2022-01-21T17:10:55.368613",
     "exception": false,
     "start_time": "2022-01-21T17:10:55.327357",
     "status": "completed"
    },
    "tags": []
   },
   "outputs": [],
   "source": [
    "#from pyparsing import results\n",
    "def get_frames(file_path):\n",
    "    \n",
    "    #in_file = os.path.join(current_dir, dir_name, file_name)\n",
    "    #in_file = os.path.join(current_dir, file_name)\n",
    "    \n",
    "    images = []\n",
    "    \n",
    "    vidcap = cv2.VideoCapture(file_path)\n",
    "    \n",
    "    success,image = vidcap.read()\n",
    "        \n",
    "    count = 0\n",
    "\n",
    "    while count<_images_per_file:\n",
    "                \n",
    "        RGB_img = cv2.cvtColor(image, cv2.COLOR_BGR2RGB)\n",
    "    \n",
    "        res = cv2.resize(RGB_img, dsize=img_size_touple,\n",
    "                                 interpolation=cv2.INTER_CUBIC)\n",
    "    \n",
    "        images.append(res)\n",
    "    \n",
    "        success,image = vidcap.read()\n",
    "    \n",
    "        count += 1\n",
    "        \n",
    "    resul = np.array(images)\n",
    "    \n",
    "    resul = (resul / 255.).astype(np.float16)\n",
    "        \n",
    "    return resul"
   ]
  },
  {
   "cell_type": "markdown",
   "metadata": {
    "id": "tLCjYFBtRZb-",
    "papermill": {
     "duration": 0.031443,
     "end_time": "2022-01-21T17:10:55.431919",
     "exception": false,
     "start_time": "2022-01-21T17:10:55.400476",
     "status": "completed"
    },
    "tags": []
   },
   "source": [
    "### Helper function to get the names of the data downloaded and label it"
   ]
  },
  {
   "cell_type": "code",
   "execution_count": 80,
   "metadata": {
    "execution": {
     "iopub.execute_input": "2022-01-21T17:10:55.502509Z",
     "iopub.status.busy": "2022-01-21T17:10:55.501840Z",
     "iopub.status.idle": "2022-01-21T17:10:55.504579Z",
     "shell.execute_reply": "2022-01-21T17:10:55.504181Z",
     "shell.execute_reply.started": "2022-01-21T17:07:43.148467Z"
    },
    "id": "Qiv5NIJjRbIA",
    "papermill": {
     "duration": 0.040373,
     "end_time": "2022-01-21T17:10:55.504702",
     "exception": false,
     "start_time": "2022-01-21T17:10:55.464329",
     "status": "completed"
    },
    "tags": []
   },
   "outputs": [],
   "source": [
    "def label_video_names(in_dir):\n",
    "    \n",
    "    # list containing video names\n",
    "    file_paths = []\n",
    "    # list containin video labels [1, 0] if it has violence and [0, 1] if not\n",
    "    labels = []\n",
    "\n",
    "    for in_dir_i in in_dir:\n",
    "        for current_dir, dir_names, file_names in os.walk(in_dir_i):\n",
    "\n",
    "            #print(current_dir[9:])\n",
    "        \n",
    "            for file_name in file_names:\n",
    "                if current_dir[9:] == 'walking':\n",
    "                    labels.append([1,0,0,0,0,0])\n",
    "                if current_dir[9:] == 'jogging':\n",
    "                    labels.append([0,1,0,0,0,0])\n",
    "                if current_dir[9:] == 'running':\n",
    "                    labels.append([0,0,1,0,0,0])\n",
    "                if current_dir[9:] == 'boxing':\n",
    "                    labels.append([0,0,0,1,0,0])\n",
    "                if current_dir[9:] == 'handwaving':\n",
    "                    labels.append([0,0,0,0,1,0])\n",
    "                if current_dir[9:] == 'handclapping':\n",
    "                    labels.append([0,0,0,0,0,1])\n",
    "                file_paths.append(current_dir+ '/' + file_name)\n",
    "                #names.append(file_name)\n",
    "                     \n",
    "            \n",
    "    c = list(zip(file_paths,labels))\n",
    "    # Suffle the data (names and labels)\n",
    "    shuffle(c)\n",
    "    #shuffle(file_paths)\n",
    "    \n",
    "    file_paths, labels = zip(*c)\n",
    "            \n",
    "    return file_paths, labels"
   ]
  },
  {
   "cell_type": "markdown",
   "metadata": {
    "id": "t3KW2kfgReKn",
    "papermill": {
     "duration": 0.031667,
     "end_time": "2022-01-21T17:10:55.567845",
     "exception": false,
     "start_time": "2022-01-21T17:10:55.536178",
     "status": "completed"
    },
    "tags": []
   },
   "source": [
    "### Plot a video frame to see if data is correct"
   ]
  },
  {
   "cell_type": "code",
   "execution_count": 81,
   "metadata": {
    "execution": {
     "iopub.execute_input": "2022-01-21T17:10:55.634182Z",
     "iopub.status.busy": "2022-01-21T17:10:55.633641Z",
     "iopub.status.idle": "2022-01-21T17:10:55.766587Z",
     "shell.execute_reply": "2022-01-21T17:10:55.765897Z",
     "shell.execute_reply.started": "2022-01-21T17:07:43.157996Z"
    },
    "id": "dIsaAgcyRfIx",
    "papermill": {
     "duration": 0.167279,
     "end_time": "2022-01-21T17:10:55.766731",
     "exception": false,
     "start_time": "2022-01-21T17:10:55.599452",
     "status": "completed"
    },
    "tags": []
   },
   "outputs": [],
   "source": [
    "# First get the names and labels of the whole videos\n",
    "file_paths, labels = label_video_names(in_dir)"
   ]
  },
  {
   "cell_type": "markdown",
   "metadata": {
    "id": "EqucOMsJRgqm",
    "papermill": {
     "duration": 0.033236,
     "end_time": "2022-01-21T17:10:55.831942",
     "exception": false,
     "start_time": "2022-01-21T17:10:55.798706",
     "status": "completed"
    },
    "tags": []
   },
   "source": [
    "Then we are going to load 150 frames of one video, for example"
   ]
  },
  {
   "cell_type": "code",
   "execution_count": 82,
   "metadata": {
    "colab": {
     "base_uri": "https://localhost:8080/",
     "height": 35
    },
    "execution": {
     "iopub.execute_input": "2022-01-21T17:10:55.930487Z",
     "iopub.status.busy": "2022-01-21T17:10:55.929303Z",
     "iopub.status.idle": "2022-01-21T17:10:55.937795Z",
     "shell.execute_reply": "2022-01-21T17:10:55.938485Z",
     "shell.execute_reply.started": "2022-01-21T17:07:43.544555Z"
    },
    "id": "xUfZO-0BRj0f",
    "outputId": "cd018e66-9b40-466a-8a45-88fc3d1d7210",
    "papermill": {
     "duration": 0.071954,
     "end_time": "2022-01-21T17:10:55.938744",
     "exception": false,
     "start_time": "2022-01-21T17:10:55.866790",
     "status": "completed"
    },
    "tags": []
   },
   "outputs": [
    {
     "data": {
      "application/vnd.google.colaboratory.intrinsic+json": {
       "type": "string"
      },
      "text/plain": [
       "'/content/handclapping/person24_handclapping_d1_uncomp.avi'"
      ]
     },
     "execution_count": 82,
     "metadata": {},
     "output_type": "execute_result"
    }
   ],
   "source": [
    "file_paths[12]"
   ]
  },
  {
   "cell_type": "markdown",
   "metadata": {
    "id": "ORGJ2pS9RnWw",
    "papermill": {
     "duration": 0.04858,
     "end_time": "2022-01-21T17:10:56.045551",
     "exception": false,
     "start_time": "2022-01-21T17:10:55.996971",
     "status": "completed"
    },
    "tags": []
   },
   "source": [
    "The video has violence, look at the name of the video, starts with 'fi'"
   ]
  },
  {
   "cell_type": "code",
   "execution_count": 83,
   "metadata": {
    "execution": {
     "iopub.execute_input": "2022-01-21T17:10:56.163861Z",
     "iopub.status.busy": "2022-01-21T17:10:56.162951Z",
     "iopub.status.idle": "2022-01-21T17:10:56.345127Z",
     "shell.execute_reply": "2022-01-21T17:10:56.346649Z",
     "shell.execute_reply.started": "2022-01-21T17:07:43.555345Z"
    },
    "id": "EqBi8z6rRoMW",
    "papermill": {
     "duration": 0.245399,
     "end_time": "2022-01-21T17:10:56.346895",
     "exception": false,
     "start_time": "2022-01-21T17:10:56.101496",
     "status": "completed"
    },
    "tags": []
   },
   "outputs": [],
   "source": [
    "frames = get_frames(file_paths[12])"
   ]
  },
  {
   "cell_type": "markdown",
   "metadata": {
    "id": "vtgQEmI6RrmM",
    "papermill": {
     "duration": 0.052954,
     "end_time": "2022-01-21T17:10:56.461196",
     "exception": false,
     "start_time": "2022-01-21T17:10:56.408242",
     "status": "completed"
    },
    "tags": []
   },
   "source": [
    "Convert back the frames to uint8 pixel format to plot the frame"
   ]
  },
  {
   "cell_type": "code",
   "execution_count": 84,
   "metadata": {
    "execution": {
     "iopub.execute_input": "2022-01-21T17:10:56.575187Z",
     "iopub.status.busy": "2022-01-21T17:10:56.574472Z",
     "iopub.status.idle": "2022-01-21T17:10:56.645967Z",
     "shell.execute_reply": "2022-01-21T17:10:56.646435Z",
     "shell.execute_reply.started": "2022-01-21T17:07:43.716346Z"
    },
    "id": "9ihSA_ogRsNU",
    "papermill": {
     "duration": 0.132773,
     "end_time": "2022-01-21T17:10:56.646584",
     "exception": false,
     "start_time": "2022-01-21T17:10:56.513811",
     "status": "completed"
    },
    "tags": []
   },
   "outputs": [],
   "source": [
    "visible_frame = (frames*255).astype('uint8')"
   ]
  },
  {
   "cell_type": "code",
   "execution_count": 85,
   "metadata": {
    "colab": {
     "base_uri": "https://localhost:8080/",
     "height": 286
    },
    "execution": {
     "iopub.execute_input": "2022-01-21T17:10:56.760323Z",
     "iopub.status.busy": "2022-01-21T17:10:56.759480Z",
     "iopub.status.idle": "2022-01-21T17:10:56.999683Z",
     "shell.execute_reply": "2022-01-21T17:10:56.999172Z",
     "shell.execute_reply.started": "2022-01-21T17:07:43.769347Z"
    },
    "id": "PM1kNhaHRvSv",
    "outputId": "a38ac9b7-5833-4827-fb03-129b3b46bcbf",
    "papermill": {
     "duration": 0.30073,
     "end_time": "2022-01-21T17:10:56.999826",
     "exception": false,
     "start_time": "2022-01-21T17:10:56.699096",
     "status": "completed"
    },
    "tags": []
   },
   "outputs": [
    {
     "data": {
      "text/plain": [
       "<matplotlib.image.AxesImage at 0x7fbb53139b10>"
      ]
     },
     "execution_count": 85,
     "metadata": {},
     "output_type": "execute_result"
    },
    {
     "data": {
      "image/png": "[encoded data removed]",
      "text/plain": [
       "<Figure size 432x288 with 1 Axes>"
      ]
     },
     "metadata": {
      "needs_background": "light"
     },
     "output_type": "display_data"
    }
   ],
   "source": [
    "plt.imshow(visible_frame[3])"
   ]
  },
  {
   "cell_type": "code",
   "execution_count": 86,
   "metadata": {
    "colab": {
     "base_uri": "https://localhost:8080/",
     "height": 286
    },
    "execution": {
     "iopub.execute_input": "2022-01-21T17:10:57.091875Z",
     "iopub.status.busy": "2022-01-21T17:10:57.089077Z",
     "iopub.status.idle": "2022-01-21T17:10:57.221034Z",
     "shell.execute_reply": "2022-01-21T17:10:57.221453Z",
     "shell.execute_reply.started": "2022-01-21T17:07:43.972816Z"
    },
    "id": "_gVWtYPvR8n2",
    "outputId": "20955173-19dc-43fc-9b8e-30a29a9a5703",
    "papermill": {
     "duration": 0.186986,
     "end_time": "2022-01-21T17:10:57.221604",
     "exception": false,
     "start_time": "2022-01-21T17:10:57.034618",
     "status": "completed"
    },
    "tags": []
   },
   "outputs": [
    {
     "data": {
      "text/plain": [
       "<matplotlib.image.AxesImage at 0x7fbb51d23690>"
      ]
     },
     "execution_count": 86,
     "metadata": {},
     "output_type": "execute_result"
    },
    {
     "data": {
      "image/png": "[encoded data removed]",
      "text/plain": [
       "<Figure size 432x288 with 1 Axes>"
      ]
     },
     "metadata": {
      "needs_background": "light"
     },
     "output_type": "display_data"
    }
   ],
   "source": [
    "plt.imshow(visible_frame[15])"
   ]
  },
  {
   "cell_type": "markdown",
   "metadata": {
    "id": "sF1QieG5SANp",
    "papermill": {
     "duration": 0.036351,
     "end_time": "2022-01-21T17:10:57.294867",
     "exception": false,
     "start_time": "2022-01-21T17:10:57.258516",
     "status": "completed"
    },
    "tags": []
   },
   "source": [
    "## Pre-Trained Model: Mobile NET"
   ]
  },
  {
   "cell_type": "markdown",
   "metadata": {
    "id": "0o6FA6slSA1l",
    "papermill": {
     "duration": 0.036988,
     "end_time": "2022-01-21T17:10:57.369561",
     "exception": false,
     "start_time": "2022-01-21T17:10:57.332573",
     "status": "completed"
    },
    "tags": []
   },
   "source": [
    "The following creates an instance of the pre-trained MobileNet model using the Keras API. This automatically downloads the required files if you don't have them already.\n",
    "\n",
    "The MobileNet model contains a convolutional part and a fully-connected (or dense) part which is used for classification. If include_top=True then the whole MobileNet model is downloaded which is about 528 MB. If include_top=False then only the convolutional part of the MobileNet model is downloaded which is just 57 MB."
   ]
  },
  {
   "cell_type": "code",
   "execution_count": 87,
   "metadata": {
    "execution": {
     "iopub.execute_input": "2022-01-21T17:10:57.450810Z",
     "iopub.status.busy": "2022-01-21T17:10:57.450111Z",
     "iopub.status.idle": "2022-01-21T17:11:00.590845Z",
     "shell.execute_reply": "2022-01-21T17:11:00.590274Z",
     "shell.execute_reply.started": "2022-01-21T17:07:44.169696Z"
    },
    "id": "MjRN6oE4SC81",
    "papermill": {
     "duration": 3.184613,
     "end_time": "2022-01-21T17:11:00.591052",
     "exception": false,
     "start_time": "2022-01-21T17:10:57.406439",
     "status": "completed"
    },
    "tags": []
   },
   "outputs": [],
   "source": [
    "image_model = MobileNet( weights='imagenet',include_top=True,input_shape=(224,224,3))"
   ]
  },
  {
   "cell_type": "markdown",
   "metadata": {
    "id": "P_7z-y1mSPov",
    "papermill": {
     "duration": 0.037383,
     "end_time": "2022-01-21T17:11:00.666115",
     "exception": false,
     "start_time": "2022-01-21T17:11:00.628732",
     "status": "completed"
    },
    "tags": []
   },
   "source": [
    "Let's see the model summary"
   ]
  },
  {
   "cell_type": "code",
   "execution_count": 88,
   "metadata": {
    "colab": {
     "base_uri": "https://localhost:8080/"
    },
    "execution": {
     "iopub.execute_input": "2022-01-21T17:11:00.748557Z",
     "iopub.status.busy": "2022-01-21T17:11:00.747270Z",
     "iopub.status.idle": "2022-01-21T17:11:00.777349Z",
     "shell.execute_reply": "2022-01-21T17:11:00.776693Z",
     "shell.execute_reply.started": "2022-01-21T17:07:47.494021Z"
    },
    "id": "ud7OU0t7SQPi",
    "outputId": "c7b621de-65db-427c-ceab-1227c5011337",
    "papermill": {
     "duration": 0.074114,
     "end_time": "2022-01-21T17:11:00.777519",
     "exception": false,
     "start_time": "2022-01-21T17:11:00.703405",
     "status": "completed"
    },
    "tags": []
   },
   "outputs": [
    {
     "name": "stdout",
     "output_type": "stream",
     "text": [
      "Model: \"mobilenet_1.00_224\"\n",
      "_________________________________________________________________\n",
      " Layer (type)                Output Shape              Param #   \n",
      "=================================================================\n",
      " input_3 (InputLayer)        [(None, 224, 224, 3)]     0         \n",
      "                                                                 \n",
      " conv1 (Conv2D)              (None, 112, 112, 32)      864       \n",
      "                                                                 \n",
      " conv1_bn (BatchNormalizatio  (None, 112, 112, 32)     128       \n",
      " n)                                                              \n",
      "                                                                 \n",
      " conv1_relu (ReLU)           (None, 112, 112, 32)      0         \n",
      "                                                                 \n",
      " conv_dw_1 (DepthwiseConv2D)  (None, 112, 112, 32)     288       \n",
      "                                                                 \n",
      " conv_dw_1_bn (BatchNormaliz  (None, 112, 112, 32)     128       \n",
      " ation)                                                          \n",
      "                                                                 \n",
      " conv_dw_1_relu (ReLU)       (None, 112, 112, 32)      0         \n",
      "                                                                 \n",
      " conv_pw_1 (Conv2D)          (None, 112, 112, 64)      2048      \n",
      "                                                                 \n",
      " conv_pw_1_bn (BatchNormaliz  (None, 112, 112, 64)     256       \n",
      " ation)                                                          \n",
      "                                                                 \n",
      " conv_pw_1_relu (ReLU)       (None, 112, 112, 64)      0         \n",
      "                                                                 \n",
      " conv_pad_2 (ZeroPadding2D)  (None, 113, 113, 64)      0         \n",
      "                                                                 \n",
      " conv_dw_2 (DepthwiseConv2D)  (None, 56, 56, 64)       576       \n",
      "                                                                 \n",
      " conv_dw_2_bn (BatchNormaliz  (None, 56, 56, 64)       256       \n",
      " ation)                                                          \n",
      "                                                                 \n",
      " conv_dw_2_relu (ReLU)       (None, 56, 56, 64)        0         \n",
      "                                                                 \n",
      " conv_pw_2 (Conv2D)          (None, 56, 56, 128)       8192      \n",
      "                                                                 \n",
      " conv_pw_2_bn (BatchNormaliz  (None, 56, 56, 128)      512       \n",
      " ation)                                                          \n",
      "                                                                 \n",
      " conv_pw_2_relu (ReLU)       (None, 56, 56, 128)       0         \n",
      "                                                                 \n",
      " conv_dw_3 (DepthwiseConv2D)  (None, 56, 56, 128)      1152      \n",
      "                                                                 \n",
      " conv_dw_3_bn (BatchNormaliz  (None, 56, 56, 128)      512       \n",
      " ation)                                                          \n",
      "                                                                 \n",
      " conv_dw_3_relu (ReLU)       (None, 56, 56, 128)       0         \n",
      "                                                                 \n",
      " conv_pw_3 (Conv2D)          (None, 56, 56, 128)       16384     \n",
      "                                                                 \n",
      " conv_pw_3_bn (BatchNormaliz  (None, 56, 56, 128)      512       \n",
      " ation)                                                          \n",
      "                                                                 \n",
      " conv_pw_3_relu (ReLU)       (None, 56, 56, 128)       0         \n",
      "                                                                 \n",
      " conv_pad_4 (ZeroPadding2D)  (None, 57, 57, 128)       0         \n",
      "                                                                 \n",
      " conv_dw_4 (DepthwiseConv2D)  (None, 28, 28, 128)      1152      \n",
      "                                                                 \n",
      " conv_dw_4_bn (BatchNormaliz  (None, 28, 28, 128)      512       \n",
      " ation)                                                          \n",
      "                                                                 \n",
      " conv_dw_4_relu (ReLU)       (None, 28, 28, 128)       0         \n",
      "                                                                 \n",
      " conv_pw_4 (Conv2D)          (None, 28, 28, 256)       32768     \n",
      "                                                                 \n",
      " conv_pw_4_bn (BatchNormaliz  (None, 28, 28, 256)      1024      \n",
      " ation)                                                          \n",
      "                                                                 \n",
      " conv_pw_4_relu (ReLU)       (None, 28, 28, 256)       0         \n",
      "                                                                 \n",
      " conv_dw_5 (DepthwiseConv2D)  (None, 28, 28, 256)      2304      \n",
      "                                                                 \n",
      " conv_dw_5_bn (BatchNormaliz  (None, 28, 28, 256)      1024      \n",
      " ation)                                                          \n",
      "                                                                 \n",
      " conv_dw_5_relu (ReLU)       (None, 28, 28, 256)       0         \n",
      "                                                                 \n",
      " conv_pw_5 (Conv2D)          (None, 28, 28, 256)       65536     \n",
      "                                                                 \n",
      " conv_pw_5_bn (BatchNormaliz  (None, 28, 28, 256)      1024      \n",
      " ation)                                                          \n",
      "                                                                 \n",
      " conv_pw_5_relu (ReLU)       (None, 28, 28, 256)       0         \n",
      "                                                                 \n",
      " conv_pad_6 (ZeroPadding2D)  (None, 29, 29, 256)       0         \n",
      "                                                                 \n",
      " conv_dw_6 (DepthwiseConv2D)  (None, 14, 14, 256)      2304      \n",
      "                                                                 \n",
      " conv_dw_6_bn (BatchNormaliz  (None, 14, 14, 256)      1024      \n",
      " ation)                                                          \n",
      "                                                                 \n",
      " conv_dw_6_relu (ReLU)       (None, 14, 14, 256)       0         \n",
      "                                                                 \n",
      " conv_pw_6 (Conv2D)          (None, 14, 14, 512)       131072    \n",
      "                                                                 \n",
      " conv_pw_6_bn (BatchNormaliz  (None, 14, 14, 512)      2048      \n",
      " ation)                                                          \n",
      "                                                                 \n",
      " conv_pw_6_relu (ReLU)       (None, 14, 14, 512)       0         \n",
      "                                                                 \n",
      " conv_dw_7 (DepthwiseConv2D)  (None, 14, 14, 512)      4608      \n",
      "                                                                 \n",
      " conv_dw_7_bn (BatchNormaliz  (None, 14, 14, 512)      2048      \n",
      " ation)                                                          \n",
      "                                                                 \n",
      " conv_dw_7_relu (ReLU)       (None, 14, 14, 512)       0         \n",
      "                                                                 \n",
      " conv_pw_7 (Conv2D)          (None, 14, 14, 512)       262144    \n",
      "                                                                 \n",
      " conv_pw_7_bn (BatchNormaliz  (None, 14, 14, 512)      2048      \n",
      " ation)                                                          \n",
      "                                                                 \n",
      " conv_pw_7_relu (ReLU)       (None, 14, 14, 512)       0         \n",
      "                                                                 \n",
      " conv_dw_8 (DepthwiseConv2D)  (None, 14, 14, 512)      4608      \n",
      "                                                                 \n",
      " conv_dw_8_bn (BatchNormaliz  (None, 14, 14, 512)      2048      \n",
      " ation)                                                          \n",
      "                                                                 \n",
      " conv_dw_8_relu (ReLU)       (None, 14, 14, 512)       0         \n",
      "                                                                 \n",
      " conv_pw_8 (Conv2D)          (None, 14, 14, 512)       262144    \n",
      "                                                                 \n",
      " conv_pw_8_bn (BatchNormaliz  (None, 14, 14, 512)      2048      \n",
      " ation)                                                          \n",
      "                                                                 \n",
      " conv_pw_8_relu (ReLU)       (None, 14, 14, 512)       0         \n",
      "                                                                 \n",
      " conv_dw_9 (DepthwiseConv2D)  (None, 14, 14, 512)      4608      \n",
      "                                                                 \n",
      " conv_dw_9_bn (BatchNormaliz  (None, 14, 14, 512)      2048      \n",
      " ation)                                                          \n",
      "                                                                 \n",
      " conv_dw_9_relu (ReLU)       (None, 14, 14, 512)       0         \n",
      "                                                                 \n",
      " conv_pw_9 (Conv2D)          (None, 14, 14, 512)       262144    \n",
      "                                                                 \n",
      " conv_pw_9_bn (BatchNormaliz  (None, 14, 14, 512)      2048      \n",
      " ation)                                                          \n",
      "                                                                 \n",
      " conv_pw_9_relu (ReLU)       (None, 14, 14, 512)       0         \n",
      "                                                                 \n",
      " conv_dw_10 (DepthwiseConv2D  (None, 14, 14, 512)      4608      \n",
      " )                                                               \n",
      "                                                                 \n",
      " conv_dw_10_bn (BatchNormali  (None, 14, 14, 512)      2048      \n",
      " zation)                                                         \n",
      "                                                                 \n",
      " conv_dw_10_relu (ReLU)      (None, 14, 14, 512)       0         \n",
      "                                                                 \n",
      " conv_pw_10 (Conv2D)         (None, 14, 14, 512)       262144    \n",
      "                                                                 \n",
      " conv_pw_10_bn (BatchNormali  (None, 14, 14, 512)      2048      \n",
      " zation)                                                         \n",
      "                                                                 \n",
      " conv_pw_10_relu (ReLU)      (None, 14, 14, 512)       0         \n",
      "                                                                 \n",
      " conv_dw_11 (DepthwiseConv2D  (None, 14, 14, 512)      4608      \n",
      " )                                                               \n",
      "                                                                 \n",
      " conv_dw_11_bn (BatchNormali  (None, 14, 14, 512)      2048      \n",
      " zation)                                                         \n",
      "                                                                 \n",
      " conv_dw_11_relu (ReLU)      (None, 14, 14, 512)       0         \n",
      "                                                                 \n",
      " conv_pw_11 (Conv2D)         (None, 14, 14, 512)       262144    \n",
      "                                                                 \n",
      " conv_pw_11_bn (BatchNormali  (None, 14, 14, 512)      2048      \n",
      " zation)                                                         \n",
      "                                                                 \n",
      " conv_pw_11_relu (ReLU)      (None, 14, 14, 512)       0         \n",
      "                                                                 \n",
      " conv_pad_12 (ZeroPadding2D)  (None, 15, 15, 512)      0         \n",
      "                                                                 \n",
      " conv_dw_12 (DepthwiseConv2D  (None, 7, 7, 512)        4608      \n",
      " )                                                               \n",
      "                                                                 \n",
      " conv_dw_12_bn (BatchNormali  (None, 7, 7, 512)        2048      \n",
      " zation)                                                         \n",
      "                                                                 \n",
      " conv_dw_12_relu (ReLU)      (None, 7, 7, 512)         0         \n",
      "                                                                 \n",
      " conv_pw_12 (Conv2D)         (None, 7, 7, 1024)        524288    \n",
      "                                                                 \n",
      " conv_pw_12_bn (BatchNormali  (None, 7, 7, 1024)       4096      \n",
      " zation)                                                         \n",
      "                                                                 \n",
      " conv_pw_12_relu (ReLU)      (None, 7, 7, 1024)        0         \n",
      "                                                                 \n",
      " conv_dw_13 (DepthwiseConv2D  (None, 7, 7, 1024)       9216      \n",
      " )                                                               \n",
      "                                                                 \n",
      " conv_dw_13_bn (BatchNormali  (None, 7, 7, 1024)       4096      \n",
      " zation)                                                         \n",
      "                                                                 \n",
      " conv_dw_13_relu (ReLU)      (None, 7, 7, 1024)        0         \n",
      "                                                                 \n",
      " conv_pw_13 (Conv2D)         (None, 7, 7, 1024)        1048576   \n",
      "                                                                 \n",
      " conv_pw_13_bn (BatchNormali  (None, 7, 7, 1024)       4096      \n",
      " zation)                                                         \n",
      "                                                                 \n",
      " conv_pw_13_relu (ReLU)      (None, 7, 7, 1024)        0         \n",
      "                                                                 \n",
      " global_average_pooling2d_2   (None, 1, 1, 1024)       0         \n",
      " (GlobalAveragePooling2D)                                        \n",
      "                                                                 \n",
      " dropout (Dropout)           (None, 1, 1, 1024)        0         \n",
      "                                                                 \n",
      " conv_preds (Conv2D)         (None, 1, 1, 1000)        1025000   \n",
      "                                                                 \n",
      " reshape_2 (Reshape)         (None, 1000)              0         \n",
      "                                                                 \n",
      " predictions (Activation)    (None, 1000)              0         \n",
      "                                                                 \n",
      "=================================================================\n",
      "Total params: 4,253,864\n",
      "Trainable params: 4,231,976\n",
      "Non-trainable params: 21,888\n",
      "_________________________________________________________________\n"
     ]
    }
   ],
   "source": [
    "image_model.summary()\n"
   ]
  },
  {
   "cell_type": "code",
   "execution_count": 89,
   "metadata": {
    "colab": {
     "base_uri": "https://localhost:8080/"
    },
    "execution": {
     "iopub.execute_input": "2022-01-21T17:11:00.870114Z",
     "iopub.status.busy": "2022-01-21T17:11:00.863996Z",
     "iopub.status.idle": "2022-01-21T17:11:00.873989Z",
     "shell.execute_reply": "2022-01-21T17:11:00.873437Z",
     "shell.execute_reply.started": "2022-01-21T17:07:47.526853Z"
    },
    "id": "4YWFA-2tSdfB",
    "outputId": "f9ac6aaa-2962-413b-8645-22f041775808",
    "papermill": {
     "duration": 0.054535,
     "end_time": "2022-01-21T17:11:00.874107",
     "exception": false,
     "start_time": "2022-01-21T17:11:00.819572",
     "status": "completed"
    },
    "tags": []
   },
   "outputs": [
    {
     "name": "stdout",
     "output_type": "stream",
     "text": [
      "The input of the MobileNet net have dimensions: (224, 224)\n",
      "The output of the selecter layer of Mobilenet net have dimensions:  1000\n"
     ]
    }
   ],
   "source": [
    "# We will use the output of the layer prior to the final\n",
    "# classification-layer which is named fc2. This is a fully-connected (or dense) layer.\n",
    "transfer_layer = image_model.get_layer('reshape_2')\n",
    "\n",
    "image_model_transfer = Model(inputs=image_model.input,\n",
    "                             outputs=transfer_layer.output)\n",
    "\n",
    "transfer_values_size = K.int_shape(transfer_layer.output)[1]\n",
    "\n",
    "\n",
    "print(\"The input of the MobileNet net have dimensions:\",K.int_shape(image_model.input)[1:3])\n",
    "\n",
    "print(\"The output of the selecter layer of Mobilenet net have dimensions: \", transfer_values_size)"
   ]
  },
  {
   "cell_type": "markdown",
   "metadata": {
    "id": "1ghum6s2Si1n",
    "papermill": {
     "duration": 0.038247,
     "end_time": "2022-01-21T17:11:00.952047",
     "exception": false,
     "start_time": "2022-01-21T17:11:00.913800",
     "status": "completed"
    },
    "tags": []
   },
   "source": [
    "### Function to process 150 video frames through Mobilenet and get transfer values"
   ]
  },
  {
   "cell_type": "code",
   "execution_count": 90,
   "metadata": {
    "execution": {
     "iopub.execute_input": "2022-01-21T17:11:01.035787Z",
     "iopub.status.busy": "2022-01-21T17:11:01.035079Z",
     "iopub.status.idle": "2022-01-21T17:11:01.037971Z",
     "shell.execute_reply": "2022-01-21T17:11:01.037500Z",
     "shell.execute_reply.started": "2022-01-21T17:07:47.548272Z"
    },
    "id": "-AdxYAtiSlLF",
    "papermill": {
     "duration": 0.046838,
     "end_time": "2022-01-21T17:11:01.038087",
     "exception": false,
     "start_time": "2022-01-21T17:11:00.991249",
     "status": "completed"
    },
    "tags": []
   },
   "outputs": [],
   "source": [
    "def get_transfer_values(file_paths):\n",
    "    \n",
    "    # Pre-allocate input-batch-array for images.\n",
    "    shape = (_images_per_file,) + img_size_touple + (3,)\n",
    "    \n",
    "    image_batch = np.zeros(shape=shape, dtype=np.float16)\n",
    "    \n",
    "    image_batch = get_frames(file_paths)\n",
    "      \n",
    "    # Pre-allocate output-array for transfer-values.\n",
    "    # Note that we use 16-bit floating-points to save memory.\n",
    "    shape = (_images_per_file, transfer_values_size)\n",
    "    transfer_values = np.zeros(shape=shape, dtype=np.float16)\n",
    "\n",
    "    transfer_values = \\\n",
    "            image_model_transfer.predict(image_batch)\n",
    "            \n",
    "    return transfer_values"
   ]
  },
  {
   "cell_type": "markdown",
   "metadata": {
    "id": "HGdRIG6oSooG",
    "papermill": {
     "duration": 0.038004,
     "end_time": "2022-01-21T17:11:01.114434",
     "exception": false,
     "start_time": "2022-01-21T17:11:01.076430",
     "status": "completed"
    },
    "tags": []
   },
   "source": [
    "### Generator that process one video through Mobilenet each function call"
   ]
  },
  {
   "cell_type": "code",
   "execution_count": 91,
   "metadata": {
    "execution": {
     "iopub.execute_input": "2022-01-21T17:11:01.198565Z",
     "iopub.status.busy": "2022-01-21T17:11:01.197868Z",
     "iopub.status.idle": "2022-01-21T17:11:01.200634Z",
     "shell.execute_reply": "2022-01-21T17:11:01.200222Z",
     "shell.execute_reply.started": "2022-01-21T17:07:47.557589Z"
    },
    "id": "D2BvaY3eSpSH",
    "papermill": {
     "duration": 0.04786,
     "end_time": "2022-01-21T17:11:01.200790",
     "exception": false,
     "start_time": "2022-01-21T17:11:01.152930",
     "status": "completed"
    },
    "tags": []
   },
   "outputs": [],
   "source": [
    "def proces_transfer(file_paths, labels):\n",
    "    \n",
    "    count = 0\n",
    "    \n",
    "    tam = len(file_paths)\n",
    "    \n",
    "    # Pre-allocate input-batch-array for images.\n",
    "    shape = (_images_per_file,) + img_size_touple + (3,)\n",
    "    \n",
    "    while count<tam:\n",
    "        \n",
    "        video_name = file_paths[count]\n",
    "        \n",
    "        image_batch = np.zeros(shape=shape, dtype=np.float16)\n",
    "    \n",
    "        image_batch = get_frames(video_name)\n",
    "        \n",
    "         # Note that we use 16-bit floating-points to save memory.\n",
    "        shape = (_images_per_file, transfer_values_size)\n",
    "        transfer_values = np.zeros(shape=shape, dtype=np.float16)\n",
    "        \n",
    "        transfer_values = \\\n",
    "            image_model_transfer.predict(image_batch)\n",
    "         \n",
    "        labels1 = labels[count]\n",
    "        \n",
    "        aux = np.ones([150,6])\n",
    "        \n",
    "        labelss = labels1*aux\n",
    "        \n",
    "        yield transfer_values, labelss\n",
    "        \n",
    "        count+=1"
   ]
  },
  {
   "cell_type": "markdown",
   "metadata": {
    "id": "I-Cnv0fRSswF",
    "papermill": {
     "duration": 0.037605,
     "end_time": "2022-01-21T17:11:01.276501",
     "exception": false,
     "start_time": "2022-01-21T17:11:01.238896",
     "status": "completed"
    },
    "tags": []
   },
   "source": [
    "### Functions to save transfer values from Mobilenet to later use\n",
    "We are going to define functions to get the transfer values from Mobilenet with defined number of files. Then save the transfer values files used from training in one file and the ones uses for testing in another one. "
   ]
  },
  {
   "cell_type": "code",
   "execution_count": 92,
   "metadata": {
    "execution": {
     "iopub.execute_input": "2022-01-21T17:11:01.364952Z",
     "iopub.status.busy": "2022-01-21T17:11:01.362968Z",
     "iopub.status.idle": "2022-01-21T17:11:01.365533Z",
     "shell.execute_reply": "2022-01-21T17:11:01.365967Z",
     "shell.execute_reply.started": "2022-01-21T17:07:47.570139Z"
    },
    "id": "tvU53ypSSvL0",
    "papermill": {
     "duration": 0.05102,
     "end_time": "2022-01-21T17:11:01.366098",
     "exception": false,
     "start_time": "2022-01-21T17:11:01.315078",
     "status": "completed"
    },
    "tags": []
   },
   "outputs": [],
   "source": [
    "def make_files(n_files):\n",
    "    \n",
    "    gen = proces_transfer(file_paths_training, labels_training)\n",
    "\n",
    "    numer = 1\n",
    "\n",
    "    # Read the first chunk to get the column dtypes\n",
    "    chunk = next(gen)\n",
    "\n",
    "    row_count = chunk[0].shape[0]\n",
    "    row_count2 = chunk[1].shape[0]\n",
    "    \n",
    "    with h5py.File('prueba.h5', 'w') as f:\n",
    "    \n",
    "        # Initialize a resizable dataset to hold the output\n",
    "        maxshape = (None,) + chunk[0].shape[1:]\n",
    "        maxshape2 = (None,) + chunk[1].shape[1:]\n",
    "    \n",
    "    \n",
    "        dset = f.create_dataset('data', shape=chunk[0].shape, maxshape=maxshape,\n",
    "                                chunks=chunk[0].shape, dtype=chunk[0].dtype)\n",
    "    \n",
    "        dset2 = f.create_dataset('labels', shape=chunk[1].shape, maxshape=maxshape2,\n",
    "                                 chunks=chunk[1].shape, dtype=chunk[1].dtype)\n",
    "    \n",
    "         # Write the first chunk of rows\n",
    "        dset[:] = chunk[0]\n",
    "        dset2[:] = chunk[1]\n",
    "\n",
    "        for chunk in gen:\n",
    "            \n",
    "            if numer == n_files:\n",
    "            \n",
    "                break\n",
    "\n",
    "            # Resize the dataset to accommodate the next chunk of rows\n",
    "            dset.resize(row_count + chunk[0].shape[0], axis=0)\n",
    "            dset2.resize(row_count2 + chunk[1].shape[0], axis=0)\n",
    "\n",
    "            # Write the next chunk\n",
    "            dset[row_count:] = chunk[0]\n",
    "            dset2[row_count:] = chunk[1]\n",
    "\n",
    "            # Increment the row count\n",
    "            row_count += chunk[0].shape[0]\n",
    "            row_count2 += chunk[1].shape[0]\n",
    "            \n",
    "            print_progress(numer, n_files)\n",
    "        \n",
    "            numer += 1"
   ]
  },
  {
   "cell_type": "code",
   "execution_count": 93,
   "metadata": {
    "execution": {
     "iopub.execute_input": "2022-01-21T17:11:01.451320Z",
     "iopub.status.busy": "2022-01-21T17:11:01.449347Z",
     "iopub.status.idle": "2022-01-21T17:11:01.454027Z",
     "shell.execute_reply": "2022-01-21T17:11:01.453418Z",
     "shell.execute_reply.started": "2022-01-21T17:07:47.584816Z"
    },
    "id": "8nK8uFExS0nX",
    "papermill": {
     "duration": 0.050182,
     "end_time": "2022-01-21T17:11:01.454147",
     "exception": false,
     "start_time": "2022-01-21T17:11:01.403965",
     "status": "completed"
    },
    "tags": []
   },
   "outputs": [],
   "source": [
    "def make_files_test(n_files):\n",
    "    \n",
    "    gen = proces_transfer(file_paths_test, labels_test)\n",
    "\n",
    "    numer = 1\n",
    "\n",
    "    # Read the first chunk to get the column dtypes\n",
    "    chunk = next(gen)\n",
    "\n",
    "    row_count = chunk[0].shape[0]\n",
    "    row_count2 = chunk[1].shape[0]\n",
    "    \n",
    "    with h5py.File('pruebavalidation.h5', 'w') as f:\n",
    "    \n",
    "        # Initialize a resizable dataset to hold the output\n",
    "        maxshape = (None,) + chunk[0].shape[1:]\n",
    "        maxshape2 = (None,) + chunk[1].shape[1:]\n",
    "    \n",
    "    \n",
    "        dset = f.create_dataset('data', shape=chunk[0].shape, maxshape=maxshape,\n",
    "                                chunks=chunk[0].shape, dtype=chunk[0].dtype)\n",
    "    \n",
    "        dset2 = f.create_dataset('labels', shape=chunk[1].shape, maxshape=maxshape2,\n",
    "                                 chunks=chunk[1].shape, dtype=chunk[1].dtype)\n",
    "    \n",
    "         # Write the first chunk of rows\n",
    "        dset[:] = chunk[0]\n",
    "        dset2[:] = chunk[1]\n",
    "\n",
    "        for chunk in gen:\n",
    "            \n",
    "            if numer == n_files:\n",
    "            \n",
    "                break\n",
    "\n",
    "            # Resize the dataset to accommodate the next chunk of rows\n",
    "            dset.resize(row_count + chunk[0].shape[0], axis=0)\n",
    "            dset2.resize(row_count2 + chunk[1].shape[0], axis=0)\n",
    "\n",
    "            # Write the next chunk\n",
    "            dset[row_count:] = chunk[0]\n",
    "            dset2[row_count:] = chunk[1]\n",
    "\n",
    "            # Increment the row count\n",
    "            row_count += chunk[0].shape[0]\n",
    "            row_count2 += chunk[1].shape[0]\n",
    "            \n",
    "            print_progress(numer, n_files)\n",
    "        \n",
    "            numer += 1"
   ]
  },
  {
   "cell_type": "markdown",
   "metadata": {
    "id": "R9axnZ8dS64T",
    "papermill": {
     "duration": 0.037842,
     "end_time": "2022-01-21T17:11:01.530060",
     "exception": false,
     "start_time": "2022-01-21T17:11:01.492218",
     "status": "completed"
    },
    "tags": []
   },
   "source": [
    "### Split the dataset into training set and test set\n",
    "We are going to split the dataset into training set and testing. The training set is used to train the model and the test set to check the model accuracy."
   ]
  },
  {
   "cell_type": "code",
   "execution_count": 94,
   "metadata": {
    "execution": {
     "iopub.execute_input": "2022-01-21T17:11:01.611164Z",
     "iopub.status.busy": "2022-01-21T17:11:01.610420Z",
     "iopub.status.idle": "2022-01-21T17:11:01.613164Z",
     "shell.execute_reply": "2022-01-21T17:11:01.612756Z",
     "shell.execute_reply.started": "2022-01-21T17:07:47.598860Z"
    },
    "id": "wjne3svdS9Y3",
    "papermill": {
     "duration": 0.045193,
     "end_time": "2022-01-21T17:11:01.613276",
     "exception": false,
     "start_time": "2022-01-21T17:11:01.568083",
     "status": "completed"
    },
    "tags": []
   },
   "outputs": [],
   "source": [
    "training_set = int(len(file_paths)*0.8)\n",
    "test_set = int(len(file_paths)*0.2)\n",
    "\n",
    "file_paths_training = file_paths[0:training_set]\n",
    "file_paths_test = file_paths[training_set:]\n",
    "\n",
    "labels_training = labels[0:training_set]\n",
    "labels_test = labels[training_set:]"
   ]
  },
  {
   "cell_type": "markdown",
   "metadata": {
    "id": "xmiJi6G7TBnI",
    "papermill": {
     "duration": 0.037863,
     "end_time": "2022-01-21T17:11:01.689368",
     "exception": false,
     "start_time": "2022-01-21T17:11:01.651505",
     "status": "completed"
    },
    "tags": []
   },
   "source": [
    "Then we are going to process all video frames through Mobilenet and save the transfer values."
   ]
  },
  {
   "cell_type": "code",
   "execution_count": 95,
   "metadata": {
    "colab": {
     "base_uri": "https://localhost:8080/"
    },
    "execution": {
     "iopub.execute_input": "2022-01-21T17:11:01.769826Z",
     "iopub.status.busy": "2022-01-21T17:11:01.769287Z",
     "iopub.status.idle": "2022-01-21T17:12:32.077173Z",
     "shell.execute_reply": "2022-01-21T17:12:32.077562Z",
     "shell.execute_reply.started": "2022-01-21T17:07:47.609336Z"
    },
    "id": "pyO9WP-6TER4",
    "outputId": "b2d4a3cd-2f24-4e31-ed4f-4f784f95317f",
    "papermill": {
     "duration": 90.349978,
     "end_time": "2022-01-21T17:12:32.077776",
     "exception": false,
     "start_time": "2022-01-21T17:11:01.727798",
     "status": "completed"
    },
    "tags": []
   },
   "outputs": [
    {
     "name": "stdout",
     "output_type": "stream",
     "text": [
      "- Progress: 99.8%"
     ]
    }
   ],
   "source": [
    "make_files(training_set)"
   ]
  },
  {
   "cell_type": "code",
   "execution_count": 96,
   "metadata": {
    "colab": {
     "base_uri": "https://localhost:8080/"
    },
    "execution": {
     "iopub.execute_input": "2022-01-21T17:12:32.726838Z",
     "iopub.status.busy": "2022-01-21T17:12:32.725881Z",
     "iopub.status.idle": "2022-01-21T17:12:54.930620Z",
     "shell.execute_reply": "2022-01-21T17:12:54.929808Z",
     "shell.execute_reply.started": "2022-01-21T17:09:17.243506Z"
    },
    "id": "0ThoefXUXPrS",
    "outputId": "3fa1221f-5e77-4749-d4f2-50eccb08f978",
    "papermill": {
     "duration": 22.617289,
     "end_time": "2022-01-21T17:12:54.930781",
     "exception": false,
     "start_time": "2022-01-21T17:12:32.313492",
     "status": "completed"
    },
    "tags": []
   },
   "outputs": [
    {
     "name": "stdout",
     "output_type": "stream",
     "text": [
      "- Progress: 99.2%"
     ]
    }
   ],
   "source": [
    "make_files_test(test_set)"
   ]
  },
  {
   "cell_type": "markdown",
   "metadata": {
    "id": "0s2imcRixMAr",
    "papermill": {
     "duration": 0.37469,
     "end_time": "2022-01-21T17:12:55.592090",
     "exception": false,
     "start_time": "2022-01-21T17:12:55.217400",
     "status": "completed"
    },
    "tags": []
   },
   "source": [
    "### Load the cached transfer values into memory\n",
    "We have already saved all the videos transfer values into disk. But we have to load those transfer values into memory in order to train the LSTM net. One question would be: why not process transfer values and load them into RAM memory? Yes is a more eficient way to train the second net. But if you have to train the LSTM in different ways in order to see which way gets the best accuracy, if you didn't save the transfer values into disk you would have to process the whole videos each training. It's very time consuming processing the videos through Mobilenet net. \n"
   ]
  },
  {
   "cell_type": "markdown",
   "metadata": {
    "id": "RnK1JL-izzeS",
    "papermill": {
     "duration": 0.284017,
     "end_time": "2022-01-21T17:12:56.314239",
     "exception": false,
     "start_time": "2022-01-21T17:12:56.030222",
     "status": "completed"
    },
    "tags": []
   },
   "source": [
    "In order to load the saved transfer values into RAM memory we are going to use this two functions:"
   ]
  },
  {
   "cell_type": "code",
   "execution_count": 97,
   "metadata": {
    "execution": {
     "iopub.execute_input": "2022-01-21T17:12:56.890004Z",
     "iopub.status.busy": "2022-01-21T17:12:56.889293Z",
     "iopub.status.idle": "2022-01-21T17:12:56.891700Z",
     "shell.execute_reply": "2022-01-21T17:12:56.892115Z",
     "shell.execute_reply.started": "2022-01-21T17:09:39.098039Z"
    },
    "id": "Ez0blP2z0CsF",
    "papermill": {
     "duration": 0.29244,
     "end_time": "2022-01-21T17:12:56.892260",
     "exception": false,
     "start_time": "2022-01-21T17:12:56.599820",
     "status": "completed"
    },
    "tags": []
   },
   "outputs": [],
   "source": [
    "def process_alldata_training():\n",
    "    \n",
    "    joint_transfer=[]\n",
    "    frames_num=20\n",
    "    count = 0\n",
    "    \n",
    "    with h5py.File('prueba.h5', 'r') as f:\n",
    "            \n",
    "        X_batch = f['data'][:]\n",
    "        y_batch = f['labels'][:]\n",
    "\n",
    "    for i in range(int(len(X_batch)/frames_num)):\n",
    "        inc = count+frames_num\n",
    "        joint_transfer.append([X_batch[count:inc],y_batch[count]])\n",
    "        count =inc\n",
    "        \n",
    "    data =[]\n",
    "    target=[]\n",
    "    \n",
    "    for i in joint_transfer:\n",
    "        data.append(i[0])\n",
    "        target.append(np.array(i[1]))\n",
    "        \n",
    "    return data, target"
   ]
  },
  {
   "cell_type": "code",
   "execution_count": 98,
   "metadata": {
    "execution": {
     "iopub.execute_input": "2022-01-21T17:12:57.468897Z",
     "iopub.status.busy": "2022-01-21T17:12:57.468152Z",
     "iopub.status.idle": "2022-01-21T17:12:57.471211Z",
     "shell.execute_reply": "2022-01-21T17:12:57.470597Z",
     "shell.execute_reply.started": "2022-01-21T17:09:39.107572Z"
    },
    "id": "Dne2XaQ90MGk",
    "papermill": {
     "duration": 0.294012,
     "end_time": "2022-01-21T17:12:57.471338",
     "exception": false,
     "start_time": "2022-01-21T17:12:57.177326",
     "status": "completed"
    },
    "tags": []
   },
   "outputs": [],
   "source": [
    "def process_alldata_test():\n",
    "    \n",
    "    joint_transfer=[]\n",
    "    frames_num=20\n",
    "    count = 0\n",
    "    \n",
    "    with h5py.File('pruebavalidation.h5', 'r') as f:\n",
    "            \n",
    "        X_batch = f['data'][:]\n",
    "        y_batch = f['labels'][:]\n",
    "\n",
    "    for i in range(int(len(X_batch)/frames_num)):\n",
    "        inc = count+frames_num\n",
    "        joint_transfer.append([X_batch[count:inc],y_batch[count]])\n",
    "        count =inc\n",
    "        \n",
    "    data =[]\n",
    "    target=[]\n",
    "    \n",
    "    for i in joint_transfer:\n",
    "        data.append(i[0])\n",
    "        target.append(np.array(i[1]))\n",
    "        \n",
    "    return data, target"
   ]
  },
  {
   "cell_type": "code",
   "execution_count": 99,
   "metadata": {
    "execution": {
     "iopub.execute_input": "2022-01-21T17:12:58.117837Z",
     "iopub.status.busy": "2022-01-21T17:12:58.116490Z",
     "iopub.status.idle": "2022-01-21T17:12:58.120911Z",
     "shell.execute_reply": "2022-01-21T17:12:58.120452Z",
     "shell.execute_reply.started": "2022-01-21T17:09:39.118958Z"
    },
    "id": "phyhoYc67VW8",
    "papermill": {
     "duration": 0.361903,
     "end_time": "2022-01-21T17:12:58.121033",
     "exception": false,
     "start_time": "2022-01-21T17:12:57.759130",
     "status": "completed"
    },
    "tags": []
   },
   "outputs": [],
   "source": [
    "data, target = process_alldata_training()"
   ]
  },
  {
   "cell_type": "code",
   "execution_count": 100,
   "metadata": {
    "execution": {
     "iopub.execute_input": "2022-01-21T17:12:58.705074Z",
     "iopub.status.busy": "2022-01-21T17:12:58.704273Z",
     "iopub.status.idle": "2022-01-21T17:12:58.707441Z",
     "shell.execute_reply": "2022-01-21T17:12:58.707014Z",
     "shell.execute_reply.started": "2022-01-21T17:09:39.156460Z"
    },
    "id": "dJpXHvEg7Xhc",
    "papermill": {
     "duration": 0.301126,
     "end_time": "2022-01-21T17:12:58.707564",
     "exception": false,
     "start_time": "2022-01-21T17:12:58.406438",
     "status": "completed"
    },
    "tags": []
   },
   "outputs": [],
   "source": [
    "data_test, target_test = process_alldata_test()"
   ]
  },
  {
   "cell_type": "markdown",
   "metadata": {
    "id": "Qjaawyqj0arq",
    "papermill": {
     "duration": 0.285159,
     "end_time": "2022-01-21T17:12:59.278214",
     "exception": false,
     "start_time": "2022-01-21T17:12:58.993055",
     "status": "completed"
    },
    "tags": []
   },
   "source": [
    "##Recurrent Neural Network"
   ]
  },
  {
   "cell_type": "markdown",
   "metadata": {
    "id": "dXFhxfzE0hGb",
    "papermill": {
     "duration": 0.285676,
     "end_time": "2022-01-21T17:12:59.848815",
     "exception": false,
     "start_time": "2022-01-21T17:12:59.563139",
     "status": "completed"
    },
    "tags": []
   },
   "source": [
    "The basic building block in a Recurrent Neural Network (RNN) is a Recurrent Unit (RU). There are many different variants of recurrent units such as the rather clunky LSTM (Long-Short-Term-Memory) and the somewhat simpler GRU (Gated Recurrent Unit) which we will use in this tutorial. Experiments in the literature suggest that the LSTM and GRU have roughly similar performance. Even simpler variants also exist and the literature suggests that they may perform even better than both LSTM and GRU, but they are not implemented in Keras which we will use in this tutorial.\n",
    "\n",
    "A recurrent neuron has an internal state that is being updated every time the unit receives a new input. This internal state serves as a kind of memory. However, it is not a traditional kind of computer memory which stores bits that are either on or off. Instead the recurrent unit stores floating-point values in its memory-state, which are read and written using matrix-operations so the operations are all differentiable. This means the memory-state can store arbitrary floating-point values (although typically limited between -1.0 and 1.0) and the network can be trained like a normal neural network using Gradient Descent.\n",
    "\n"
   ]
  },
  {
   "cell_type": "markdown",
   "metadata": {
    "id": "BsIrL3ix4Edp",
    "papermill": {
     "duration": 0.284235,
     "end_time": "2022-01-21T17:13:00.417212",
     "exception": false,
     "start_time": "2022-01-21T17:13:00.132977",
     "status": "completed"
    },
    "tags": []
   },
   "source": [
    "### Define LSTM architecture"
   ]
  },
  {
   "cell_type": "markdown",
   "metadata": {
    "id": "qFiSjMaC4Q1c",
    "papermill": {
     "duration": 0.283254,
     "end_time": "2022-01-21T17:13:00.985106",
     "exception": false,
     "start_time": "2022-01-21T17:13:00.701852",
     "status": "completed"
    },
    "tags": []
   },
   "source": [
    "When defining the LSTM architecture we have to take into account the dimensions of the transfer values. From each frame the Mobilenet network obtains as output a vector of 4096 transfer values. From each video we are processing 20 frames so we will have 20 x 4096 values per video. The classification must be done taking into account the 20 frames of the video. If any of them detects violence, the video will be classified as violent.\n"
   ]
  },
  {
   "cell_type": "markdown",
   "metadata": {
    "id": "HAgSUeVu58N_",
    "papermill": {
     "duration": 0.287382,
     "end_time": "2022-01-21T17:13:01.562153",
     "exception": false,
     "start_time": "2022-01-21T17:13:01.274771",
     "status": "completed"
    },
    "tags": []
   },
   "source": [
    "The first input dimension of LSTM neurons is the temporal dimension, in our case it is 20. The second is the size of the features vector (transfer values).\n"
   ]
  },
  {
   "cell_type": "code",
   "execution_count": 115,
   "metadata": {
    "execution": {
     "iopub.execute_input": "2022-01-21T17:13:02.137946Z",
     "iopub.status.busy": "2022-01-21T17:13:02.137281Z",
     "iopub.status.idle": "2022-01-21T17:13:02.481566Z",
     "shell.execute_reply": "2022-01-21T17:13:02.481105Z",
     "shell.execute_reply.started": "2022-01-21T17:09:39.171267Z"
    },
    "id": "XWABZ91b6f7l",
    "papermill": {
     "duration": 0.635991,
     "end_time": "2022-01-21T17:13:02.481726",
     "exception": false,
     "start_time": "2022-01-21T17:13:01.845735",
     "status": "completed"
    },
    "tags": []
   },
   "outputs": [],
   "source": [
    "chunk_size = 1000\n",
    "n_chunks = 20\n",
    "rnn_size = 512\n",
    "\n",
    "model = Sequential()\n",
    "model.add(LSTM(rnn_size, input_shape=(n_chunks, chunk_size)))\n",
    "model.add(Dense(1024))\n",
    "model.add(Activation('relu'))\n",
    "model.add(Dense(50))\n",
    "model.add(Activation('sigmoid'))\n",
    "model.add(Dense(6))\n",
    "model.add(Activation('softmax'))\n",
    "\n",
    "model.compile(loss=tf.keras.losses.CategoricalCrossentropy(from_logits=True), optimizer='adam',metrics=['accuracy'])\n",
    "\n",
    "#model.compile(loss='mean_squared_error', optimizer='adam',metrics=['accuracy'])"
   ]
  },
  {
   "cell_type": "markdown",
   "metadata": {
    "id": "bVonOPYW7F_b",
    "papermill": {
     "duration": 0.288526,
     "end_time": "2022-01-21T17:13:03.056833",
     "exception": false,
     "start_time": "2022-01-21T17:13:02.768307",
     "status": "completed"
    },
    "tags": []
   },
   "source": [
    "## Model training\n"
   ]
  },
  {
   "cell_type": "code",
   "execution_count": 116,
   "metadata": {
    "colab": {
     "base_uri": "https://localhost:8080/"
    },
    "execution": {
     "iopub.execute_input": "2022-01-21T17:13:03.631020Z",
     "iopub.status.busy": "2022-01-21T17:13:03.629462Z",
     "iopub.status.idle": "2022-01-21T17:13:16.973422Z",
     "shell.execute_reply": "2022-01-21T17:13:16.974261Z",
     "shell.execute_reply.started": "2022-01-21T17:09:39.502944Z"
    },
    "id": "iRZlW4ZV_ygS",
    "outputId": "aec78029-b67a-4a7d-db02-616ac5462d9f",
    "papermill": {
     "duration": 13.634879,
     "end_time": "2022-01-21T17:13:16.974446",
     "exception": false,
     "start_time": "2022-01-21T17:13:03.339567",
     "status": "completed"
    },
    "tags": []
   },
   "outputs": [
    {
     "name": "stdout",
     "output_type": "stream",
     "text": [
      "Epoch 1/10\n",
      "2/2 - 14s - loss: 1.7463 - accuracy: 0.2389 - val_loss: 1.5268 - val_accuracy: 0.3499 - 14s/epoch - 7s/step\n",
      "Epoch 2/10\n",
      "2/2 - 12s - loss: 1.2955 - accuracy: 0.5514 - val_loss: 1.3823 - val_accuracy: 0.4192 - 12s/epoch - 6s/step\n",
      "Epoch 3/10\n",
      "2/2 - 11s - loss: 1.0476 - accuracy: 0.6569 - val_loss: 1.2138 - val_accuracy: 0.4412 - 11s/epoch - 6s/step\n",
      "Epoch 4/10\n",
      "2/2 - 11s - loss: 0.8646 - accuracy: 0.7278 - val_loss: 1.1403 - val_accuracy: 0.4756 - 11s/epoch - 6s/step\n",
      "Epoch 5/10\n",
      "2/2 - 11s - loss: 0.7347 - accuracy: 0.7611 - val_loss: 1.0835 - val_accuracy: 0.4972 - 11s/epoch - 6s/step\n",
      "Epoch 6/10\n",
      "2/2 - 11s - loss: 0.6210 - accuracy: 0.8264 - val_loss: 1.0613 - val_accuracy: 0.5296 - 11s/epoch - 6s/step\n",
      "Epoch 7/10\n",
      "2/2 - 11s - loss: 0.5280 - accuracy: 0.8750 - val_loss: 1.0914 - val_accuracy: 0.5296 - 11s/epoch - 6s/step\n",
      "Epoch 8/10\n",
      "2/2 - 11s - loss: 0.4637 - accuracy: 0.8819 - val_loss: 1.0812 - val_accuracy: 0.5282 - 11s/epoch - 6s/step\n",
      "Epoch 9/10\n",
      "2/2 - 12s - loss: 0.4003 - accuracy: 0.8931 - val_loss: 1.0617 - val_accuracy: 0.5578 - 12s/epoch - 6s/step\n",
      "Epoch 10/10\n",
      "2/2 - 11s - loss: 0.3434 - accuracy: 0.9208 - val_loss: 1.0474 - val_accuracy: 0.5832 - 11s/epoch - 6s/step\n"
     ]
    }
   ],
   "source": [
    "epoch = 10\n",
    "batchS = 500\n",
    "\n",
    "history = model.fit(np.array(data[0:720]), np.array(target[0:720]), epochs=epoch,\n",
    "                    validation_data=(np.array(data[720:]), np.array(target[720:])), \n",
    "                    batch_size=batchS, verbose=2)"
   ]
  },
  {
   "cell_type": "markdown",
   "metadata": {
    "id": "BVJCgz3bA4A3",
    "papermill": {
     "duration": 0.534024,
     "end_time": "2022-01-21T17:13:17.840728",
     "exception": false,
     "start_time": "2022-01-21T17:13:17.306704",
     "status": "completed"
    },
    "tags": []
   },
   "source": [
    "## Test the model"
   ]
  },
  {
   "cell_type": "markdown",
   "metadata": {
    "id": "3MwCq0LpA59G",
    "papermill": {
     "duration": 0.333429,
     "end_time": "2022-01-21T17:13:18.562362",
     "exception": false,
     "start_time": "2022-01-21T17:13:18.228933",
     "status": "completed"
    },
    "tags": []
   },
   "source": [
    "We are going to test the model with 20 % of the total videos. This videos have not been used to train the network. "
   ]
  },
  {
   "cell_type": "code",
   "execution_count": 117,
   "metadata": {
    "colab": {
     "base_uri": "https://localhost:8080/"
    },
    "execution": {
     "iopub.execute_input": "2022-01-21T17:13:19.233134Z",
     "iopub.status.busy": "2022-01-21T17:13:19.232260Z",
     "iopub.status.idle": "2022-01-21T17:13:19.302319Z",
     "shell.execute_reply": "2022-01-21T17:13:19.301897Z",
     "shell.execute_reply.started": "2022-01-21T17:10:14.100116Z"
    },
    "id": "VDXFFy6zBG3X",
    "outputId": "bc7a1b4a-db1a-4382-fb2e-c4cd089b4fae",
    "papermill": {
     "duration": 0.409147,
     "end_time": "2022-01-21T17:13:19.302447",
     "exception": false,
     "start_time": "2022-01-21T17:13:18.893300",
     "status": "completed"
    },
    "tags": []
   },
   "outputs": [
    {
     "name": "stdout",
     "output_type": "stream",
     "text": [
      "28/28 [==============================] - 4s 128ms/step - loss: 0.9704 - accuracy: 0.5774\n"
     ]
    }
   ],
   "source": [
    "result = model.evaluate(np.array(data_test), np.array(target_test))"
   ]
  },
  {
   "cell_type": "markdown",
   "metadata": {
    "id": "8YG-bPW4BL6U",
    "papermill": {
     "duration": 0.330798,
     "end_time": "2022-01-21T17:13:19.967312",
     "exception": false,
     "start_time": "2022-01-21T17:13:19.636514",
     "status": "completed"
    },
    "tags": []
   },
   "source": [
    "## Print the model accuracy"
   ]
  },
  {
   "cell_type": "code",
   "execution_count": 118,
   "metadata": {
    "colab": {
     "base_uri": "https://localhost:8080/"
    },
    "execution": {
     "iopub.execute_input": "2022-01-21T17:13:20.638171Z",
     "iopub.status.busy": "2022-01-21T17:13:20.635576Z",
     "iopub.status.idle": "2022-01-21T17:13:20.640795Z",
     "shell.execute_reply": "2022-01-21T17:13:20.640147Z",
     "shell.execute_reply.started": "2022-01-21T17:10:18.794573Z"
    },
    "id": "wBV2t2Q6BOt9",
    "outputId": "3311a192-8f94-4add-8316-61d92ba41c51",
    "papermill": {
     "duration": 0.341987,
     "end_time": "2022-01-21T17:13:20.640952",
     "exception": false,
     "start_time": "2022-01-21T17:13:20.298965",
     "status": "completed"
    },
    "tags": []
   },
   "outputs": [
    {
     "name": "stdout",
     "output_type": "stream",
     "text": [
      "loss 0.9704475998878479\n",
      "accuracy 0.5773542523384094\n"
     ]
    }
   ],
   "source": [
    "for name, value in zip(model.metrics_names, result):\n",
    "    print(name, value)"
   ]
  },
  {
   "cell_type": "code",
   "execution_count": 119,
   "metadata": {
    "colab": {
     "base_uri": "https://localhost:8080/",
     "height": 662
    },
    "execution": {
     "iopub.execute_input": "2022-01-21T17:13:21.337100Z",
     "iopub.status.busy": "2022-01-21T17:13:21.331848Z",
     "iopub.status.idle": "2022-01-21T17:13:21.700292Z",
     "shell.execute_reply": "2022-01-21T17:13:21.699849Z",
     "shell.execute_reply.started": "2022-01-21T17:10:22.052124Z"
    },
    "id": "zO6YSbxgBZ3f",
    "outputId": "619a16da-9252-4bbd-a61b-f4581e278497",
    "papermill": {
     "duration": 0.72579,
     "end_time": "2022-01-21T17:13:21.700423",
     "exception": false,
     "start_time": "2022-01-21T17:13:20.974633",
     "status": "completed"
    },
    "tags": []
   },
   "outputs": [
    {
     "name": "stderr",
     "output_type": "stream",
     "text": [
      "WARNING:matplotlib.backends.backend_ps:The PostScript backend does not support transparency; partially transparent artists will be rendered opaque.\n",
      "WARNING:matplotlib.backends.backend_ps:The PostScript backend does not support transparency; partially transparent artists will be rendered opaque.\n"
     ]
    },
    {
     "data": {
      "image/png": "[encoded data removed]",
      "text/plain": [
       "<Figure size 432x288 with 1 Axes>"
      ]
     },
     "metadata": {
      "needs_background": "light"
     },
     "output_type": "display_data"
    },
    {
     "name": "stderr",
     "output_type": "stream",
     "text": [
      "WARNING:matplotlib.backends.backend_ps:The PostScript backend does not support transparency; partially transparent artists will be rendered opaque.\n",
      "WARNING:matplotlib.backends.backend_ps:The PostScript backend does not support transparency; partially transparent artists will be rendered opaque.\n"
     ]
    },
    {
     "data": {
      "image/png": "[encoded data removed]",
      "text/plain": [
       "<Figure size 432x288 with 1 Axes>"
      ]
     },
     "metadata": {
      "needs_background": "light"
     },
     "output_type": "display_data"
    }
   ],
   "source": [
    "plt.plot(history.history['accuracy'])\n",
    "plt.plot(history.history['val_accuracy'])\n",
    "plt.title('model accuracy')\n",
    "plt.ylabel('accuracy')\n",
    "plt.xlabel('epoch')\n",
    "plt.legend(['train', 'validation'], loc='upper left')\n",
    "plt.savefig('destination_path.eps', format='eps', dpi=1000)\n",
    "plt.show()\n",
    "# summarize history for loss\n",
    "plt.plot(history.history['loss'])\n",
    "plt.plot(history.history['val_loss'])\n",
    "plt.title('model loss')\n",
    "plt.ylabel('loss')\n",
    "plt.xlabel('epoch')\n",
    "plt.legend(['train', 'validation'], loc='upper left')\n",
    "plt.savefig('destination_path1.eps', format='eps', dpi=1000)\n",
    "plt.show()"
   ]
  },
  {
   "cell_type": "markdown",
   "metadata": {
    "id": "Z_lE_JCxGdc6",
    "papermill": {
     "duration": 0.332199,
     "end_time": "2022-01-21T17:13:22.367501",
     "exception": false,
     "start_time": "2022-01-21T17:13:22.035302",
     "status": "completed"
    },
    "tags": []
   },
   "source": [
    "Видимо в связи с усложнением, модель ушла в жесткое переобучение. Конечно же, существует множество методов борьбы с переобучением: дропауты, нормализация, learning rate, размер бачей, размер и количество слоев, но у меня достаточно хорошо работает модель, основанная на  CNN с accuracy  больше 96% и при этом она гораздо легче. Поэтому, если не требуется жутко высокая точность, лучше довести до ума модель на CNN, чем  эту."
   ]
  },
  {
   "cell_type": "code",
   "execution_count": null,
   "metadata": {},
   "outputs": [],
   "source": []
  }
 ],
 "metadata": {
  "colab": {
   "provenance": []
  },
  "gpuClass": "standard",
  "kernelspec": {
   "display_name": "Python 3 (ipykernel)",
   "language": "python",
   "name": "python3"
  },
  "language_info": {
   "codemirror_mode": {
    "name": "ipython",
    "version": 3
   },
   "file_extension": ".py",
   "mimetype": "text/x-python",
   "name": "python",
   "nbconvert_exporter": "python",
   "pygments_lexer": "ipython3",
   "version": "3.8.5"
  },
  "papermill": {
   "default_parameters": {},
   "duration": 159.786637,
   "end_time": "2022-01-21T17:13:24.425751",
   "environment_variables": {},
   "exception": null,
   "input_path": "__notebook__.ipynb",
   "output_path": "__notebook__.ipynb",
   "parameters": {},
   "start_time": "2022-01-21T17:10:44.639114",
   "version": "2.2.2"
  }
 },
 "nbformat": 4,
 "nbformat_minor": 1
}
